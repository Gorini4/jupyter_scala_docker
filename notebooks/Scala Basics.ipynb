{
 "cells": [
  {
   "cell_type": "markdown",
   "metadata": {},
   "source": [
    "## Val and Var"
   ]
  },
  {
   "cell_type": "code",
   "execution_count": null,
   "metadata": {},
   "outputs": [],
   "source": [
    "val thiIsVal = \"a\""
   ]
  },
  {
   "cell_type": "code",
   "execution_count": null,
   "metadata": {},
   "outputs": [],
   "source": [
    "thiIsVal = \"b\""
   ]
  },
  {
   "cell_type": "code",
   "execution_count": null,
   "metadata": {},
   "outputs": [],
   "source": [
    "var thiIsVar = \"a\""
   ]
  },
  {
   "cell_type": "code",
   "execution_count": null,
   "metadata": {},
   "outputs": [],
   "source": [
    "thiIsVar = \"b\"\n",
    "thiIsVar"
   ]
  },
  {
   "cell_type": "markdown",
   "metadata": {},
   "source": [
    "## Functions"
   ]
  },
  {
   "cell_type": "code",
   "execution_count": null,
   "metadata": {},
   "outputs": [],
   "source": [
    "def sum(a: Int, b: Int): Int = a + b"
   ]
  },
  {
   "cell_type": "code",
   "execution_count": null,
   "metadata": {},
   "outputs": [],
   "source": [
    "sum(3, 4)"
   ]
  },
  {
   "cell_type": "code",
   "execution_count": null,
   "metadata": {},
   "outputs": [],
   "source": [
    "List(1, 2, 3).map( (x: Int) => { x + 1 } )"
   ]
  },
  {
   "cell_type": "code",
   "execution_count": null,
   "metadata": {},
   "outputs": [],
   "source": [
    "List(1, 2, 3).map( x => x + 1 )"
   ]
  },
  {
   "cell_type": "code",
   "execution_count": null,
   "metadata": {},
   "outputs": [],
   "source": [
    "List(1, 2, 3).map( _ + 1 )"
   ]
  },
  {
   "cell_type": "code",
   "execution_count": null,
   "metadata": {},
   "outputs": [],
   "source": [
    "def add(x: Int) = { x + 1 }\n",
    "List(1, 2, 3).map( add )"
   ]
  },
  {
   "cell_type": "code",
   "execution_count": null,
   "metadata": {},
   "outputs": [],
   "source": [
    "val c = { \n",
    "  val a = 11 \n",
    "  a + 42\n",
    "}"
   ]
  },
  {
   "cell_type": "markdown",
   "metadata": {},
   "source": [
    "## def, val, lazy val"
   ]
  },
  {
   "cell_type": "code",
   "execution_count": null,
   "metadata": {},
   "outputs": [],
   "source": [
    "import scala.util.Random\n",
    "\n",
    "class TestClass {\n",
    "  \n",
    "  val rg = new Random\n",
    "  \n",
    "  def callWrapper(objName: String): Int = {\n",
    "    println(s\">> Init '$objName'!\")\n",
    "    rg.nextInt()\n",
    "  }\n",
    "  \n",
    "  def Def = callWrapper(\"def\")\n",
    "  \n",
    "  val Val = callWrapper(\"val\")\n",
    "  \n",
    "  lazy val LazyVal = callWrapper(\"lazy val\")\n",
    "  \n",
    "}\n",
    "\n",
    "def repeat(obj: => Int) = {\n",
    "  println(\"\\n\")\n",
    "  (1 to 3).foreach(_ => println(obj))\n",
    "}\n",
    "\n",
    "val t = new TestClass()\n",
    "println(\">> t created\")\n",
    "repeat(t.Def)\n",
    "repeat(t.Val)\n",
    "repeat(t.LazyVal)"
   ]
  },
  {
   "cell_type": "markdown",
   "metadata": {},
   "source": [
    "## Control expressions"
   ]
  },
  {
   "cell_type": "code",
   "execution_count": null,
   "metadata": {},
   "outputs": [],
   "source": [
    "val x = 1\n",
    "if ( x < 20 ) {\n",
    "   println(\"This is if statement\")\n",
    "}"
   ]
  },
  {
   "cell_type": "code",
   "execution_count": null,
   "metadata": {},
   "outputs": [],
   "source": [
    "val howMuch = if (x < 20) {\n",
    "    \"some\"\n",
    "} else {\n",
    "    \"many\"\n",
    "}"
   ]
  },
  {
   "cell_type": "code",
   "execution_count": null,
   "metadata": {},
   "outputs": [],
   "source": [
    "val howMuch = if (x < 20) \"some\" else \"many\""
   ]
  },
  {
   "cell_type": "code",
   "execution_count": null,
   "metadata": {},
   "outputs": [],
   "source": [
    "val range = 1 to 3\n",
    "for (x <- range) {\n",
    "    println(x + 2)\n",
    "}"
   ]
  },
  {
   "cell_type": "markdown",
   "metadata": {},
   "source": [
    "## Pattern Matching"
   ]
  },
  {
   "cell_type": "code",
   "execution_count": null,
   "metadata": {},
   "outputs": [],
   "source": [
    "val x = 1\n",
    "\n",
    "x match {\n",
    "   case 1 => \"one\"\n",
    "   case y: Int => s\"${y + 2} is scala.Int\"\n",
    "   case _ => \"many\"\n",
    "}"
   ]
  },
  {
   "cell_type": "markdown",
   "metadata": {},
   "source": [
    "## Collections"
   ]
  },
  {
   "cell_type": "code",
   "execution_count": null,
   "metadata": {},
   "outputs": [],
   "source": [
    "val fruit: List[String] = List(\"apples\", \"oranges\", \"pears\")\n",
    "\n",
    "fruit.map(x => s\"This is $x\")\n",
    "fruit\n",
    "fruit.contains(\"apples\")\n",
    "fruit(0)"
   ]
  },
  {
   "cell_type": "code",
   "execution_count": null,
   "metadata": {},
   "outputs": [],
   "source": [
    "val colors = Map(\"red\" -> \"#FF0000\", \"azure\" -> \"#F0FFFF\")\n",
    "\n",
    "colors(\"red\")\n",
    "colors.keys\n",
    "colors.getOrElse(\"purple\", \"#000000\")\n",
    "\n",
    "val newColors = colors.updated(\"black\", \"#000000\")\n",
    "colors\n",
    "newColors"
   ]
  },
  {
   "cell_type": "markdown",
   "metadata": {},
   "source": [
    "## Tuple"
   ]
  },
  {
   "cell_type": "code",
   "execution_count": null,
   "metadata": {},
   "outputs": [],
   "source": [
    "val s = (1, \"hello\", 3.0)\n",
    "val t = (4, 3, 2, 1)\n",
    "val sum = t._1 + t._2 + t._3 + t._4"
   ]
  },
  {
   "cell_type": "code",
   "execution_count": null,
   "metadata": {},
   "outputs": [],
   "source": [
    "var s: (Int, String, Double) = (1, \"hello\", 3.0)\n",
    "s = (1, 2, 3.0)"
   ]
  },
  {
   "cell_type": "code",
   "execution_count": null,
   "metadata": {},
   "outputs": [],
   "source": [
    "val map = List((\"a\", 1), (\"b\", 2)).toMap\n",
    "val list = map.toList"
   ]
  },
  {
   "cell_type": "markdown",
   "metadata": {},
   "source": [
    "## Options"
   ]
  },
  {
   "cell_type": "code",
   "execution_count": null,
   "metadata": {},
   "outputs": [],
   "source": [
    "case class User(login: String)\n",
    "\n",
    "val realUser: User = User(\"john\")\n",
    "val nullUser: User = null\n",
    "\n",
    "val currentUser: User = nullUser\n",
    "print(currentUser.login) // runtime Exception"
   ]
  },
  {
   "cell_type": "code",
   "execution_count": null,
   "metadata": {},
   "outputs": [],
   "source": [
    "case class User(login: String)\n",
    "\n",
    "val realUser: Option[User] = Some(User(\"john\"))\n",
    "val nullUser: Option[User] = None\n",
    "\n",
    "val currentUser: User = nullUser\n",
    "print(currentUser.login) // compilation error"
   ]
  },
  {
   "cell_type": "code",
   "execution_count": null,
   "metadata": {},
   "outputs": [],
   "source": [
    "val a: Option[Int] = Some(5)\n",
    "val b: Option[Int] = None\n",
    "a.map(_ + 1)\n",
    "b.map(_ + 1)"
   ]
  },
  {
   "cell_type": "code",
   "execution_count": null,
   "metadata": {},
   "outputs": [],
   "source": [
    "val a: List[Int] = List(5)\n",
    "val b: List[Int] = List()\n",
    "a.map(_ + 1)\n",
    "b.map(_ + 1)"
   ]
  },
  {
   "cell_type": "code",
   "execution_count": null,
   "metadata": {},
   "outputs": [],
   "source": [
    "val iHopeItsNumbers = List(\"1\", \"2\", \"NaN\", \"4\")\n",
    "\n",
    "def toInt(in: String): Option[Int] = {\n",
    "  try {\n",
    "    Some(Integer.parseInt(in.trim))\n",
    "  } catch {\n",
    "    case e: NumberFormatException => None\n",
    "  }\n",
    "}\n",
    "\n",
    "iHopeItsNumbers.map(x => toInt(x))\n",
    "\n",
    "iHopeItsNumbers.flatMap(x => toInt(x))\n",
    "\n",
    "iHopeItsNumbers.flatMap(toInt).sum"
   ]
  },
  {
   "cell_type": "markdown",
   "metadata": {},
   "source": [
    "## Collections operations"
   ]
  },
  {
   "cell_type": "code",
   "execution_count": null,
   "metadata": {},
   "outputs": [],
   "source": [
    "List(1, 2, 3).map(x => x + 1)                        // 1 -> 1\n",
    "\n",
    "List(1, 2, 3).foreach(x => print(x))                 // 1 -> Unit\n",
    "\n",
    "List(List(1), List(2, 3), List()).flatten\n",
    "\n",
    "List(1, 2, 3).flatMap(x => List(x, x, x))            // 1 -> 0..N\n",
    "\n",
    "List(1, 2, 3).map(x => List(x, x, x))\n",
    "List(1, 2, 3).map(x => List(x, x, x)).flatten"
   ]
  },
  {
   "cell_type": "code",
   "execution_count": null,
   "metadata": {},
   "outputs": [],
   "source": [
    "val fruits = List(\"apple\", \"banana\", \"banana\", \"pear\", \"orange\")\n",
    "\n",
    "fruits.take(2)\n",
    "\n",
    "fruits.filter(_.endsWith(\"e\"))\n",
    "\n",
    "fruits.exists(_.startsWith(\"b\"))\n",
    "\n",
    "fruits.distinct\n",
    "\n",
    "fruits.size"
   ]
  },
  {
   "cell_type": "code",
   "execution_count": null,
   "metadata": {},
   "outputs": [],
   "source": [
    "List((\"apple\", 1), (\"apple\", 2), (\"apple\", 3), (\"orange\", 2))         \n",
    "    .groupBy(_._1)\n",
    "\n",
    "List((\"apple\", 1), (\"apple\", 2), (\"apple\", 3), (\"orange\", 2))         \n",
    "    .groupBy(_._1)\n",
    "    .mapValues(_.size)\n",
    "\n",
    "List(1, 7, 2, 9, 3).reduce( (r1, r2) => if (r1 > r2) r1 else r2 )\n",
    "\n",
    "// 1 7 2 9 3\n",
    "// f(1, 7) 2 9 3\n",
    "// 7 2 9 3\n",
    "// f(7, 2) 9 3\n",
    "// 7 9 3\n",
    "// f(7, 9) 3\n",
    "// 9 3\n",
    "// f(9, 3)\n",
    "// 9\n",
    "\n",
    "val accumulator = List(1, 7, 5, 9, 3)\n",
    "    .foldLeft (0.0, 0) { (acc, x) => (acc._1 + x, acc._2 + 1) }\n",
    "\n",
    "accumulator._1 / accumulator._2"
   ]
  },
  {
   "cell_type": "markdown",
   "metadata": {},
   "source": [
    "## Classes"
   ]
  },
  {
   "cell_type": "code",
   "execution_count": null,
   "metadata": {},
   "outputs": [],
   "source": [
    "class Point(xc: Int, yc: Int) {\n",
    "   var x: Int = xc\n",
    "   var y: Int = yc\n",
    "\n",
    "   def move(dx: Int, dy: Int) = {\n",
    "      x = x + dx\n",
    "      y = y + dy\n",
    "      println (\"Point x location : \" + x)\n",
    "      println (\"Point y location : \" + y)\n",
    "   }\n",
    "}\n",
    "\n",
    "val pt = new Point(1, 2)"
   ]
  },
  {
   "cell_type": "code",
   "execution_count": null,
   "metadata": {},
   "outputs": [],
   "source": [
    "pt.move(10, 10)"
   ]
  },
  {
   "cell_type": "code",
   "execution_count": null,
   "metadata": {},
   "outputs": [],
   "source": [
    "case class Person(name: String, age: Int)\n",
    "\n",
    "val garry = Person(\"Garry\", 22)\n",
    "val oldGarry = garry.copy(age=60)"
   ]
  },
  {
   "cell_type": "code",
   "execution_count": null,
   "metadata": {},
   "outputs": [],
   "source": [
    "val alice = Person(\"Alice\", 25)\n",
    "val bob = Person(\"Bob\", 32)\n",
    "val charlie = Person(\"Charlie\", 32)\n",
    "\n",
    "for (person <- List(alice, bob, charlie)) {\n",
    "  person match {\n",
    "    case Person(\"Alice\", _) => println(\"Hi Alice!\")\n",
    "    case Person(\"Bob\", 32) => println(\"Hi Bob!\")\n",
    "    case Person(name, age) => println(s\"Age: $age year, name: $name?\")\n",
    "  }\n",
    "}"
   ]
  },
  {
   "cell_type": "code",
   "execution_count": null,
   "metadata": {},
   "outputs": [],
   "source": [
    "val p = Person(\"Bob\", 32)\n",
    "val Person(name, age) = p\n",
    "println(name)\n",
    "println(Person.unapply(p))"
   ]
  },
  {
   "cell_type": "markdown",
   "metadata": {},
   "source": [
    "## Objects"
   ]
  },
  {
   "cell_type": "code",
   "execution_count": null,
   "metadata": {},
   "outputs": [],
   "source": [
    "object ColorConfig {\n",
    "    val options = List(\"red\", \"green\", \"blue\")\n",
    "}\n",
    "\n",
    "ColorConfig.options"
   ]
  },
  {
   "cell_type": "code",
   "execution_count": null,
   "metadata": {},
   "outputs": [],
   "source": [
    "class Person {\n",
    "    var name: Option[String] = None\n",
    "    private var age: Option[Int] = None\n",
    "    override def toString = s\"$name, $age\"\n",
    "}\n",
    "\n",
    "object Person {\n",
    "\n",
    "    // a one-arg constructor\n",
    "    def apply(name: Option[String]): Person = {\n",
    "        var p = new Person\n",
    "        p.name = name\n",
    "        p\n",
    "    }\n",
    "\n",
    "    // a two-arg constructor\n",
    "    def apply(name: Option[String], age: Option[Int]): Person = {\n",
    "        var p = new Person\n",
    "        p.name = name\n",
    "        p.age = age\n",
    "        p\n",
    "    }\n",
    "\n",
    "}\n",
    "\n",
    "val p1 = Person(Some(\"Fred\"))\n",
    "val p2 = Person(None)\n",
    "\n",
    "val p3 = Person(Some(\"Wilma\"), Some(33))\n",
    "val p4 = Person(Some(\"Wilma\"), None)"
   ]
  },
  {
   "cell_type": "markdown",
   "metadata": {},
   "source": [
    "## Traits"
   ]
  },
  {
   "cell_type": "code",
   "execution_count": null,
   "metadata": {},
   "outputs": [],
   "source": [
    "sealed trait Shape {\n",
    "  def fullName: String\n",
    "  def shapeName: String\n",
    "  override def toString = fullName\n",
    "}\n",
    "\n",
    "trait Circle extends Shape {\n",
    "  val shapeName = \"circle\"\n",
    "}\n",
    "\n",
    "sealed trait Color {\n",
    "  def colorName: String\n",
    "}\n",
    "\n",
    "trait Red extends Color {\n",
    "  val colorName = \"red\"\n",
    "}\n",
    "\n",
    "trait ColoredShape extends Shape with Color {\n",
    "  def fullName = s\"$colorName $shapeName\"\n",
    "}\n",
    "\n",
    "object RedCircle extends ColoredShape with Circle with Red\n",
    "\n",
    "println(RedCircle)"
   ]
  },
  {
   "cell_type": "markdown",
   "metadata": {},
   "source": [
    "## Generic classes"
   ]
  },
  {
   "cell_type": "code",
   "execution_count": null,
   "metadata": {},
   "outputs": [],
   "source": [
    "class Stack[A] {\n",
    "  private var elements: List[A] = Nil\n",
    "  def push(x: A) = { elements = x :: elements }\n",
    "  def peek: A = elements.head\n",
    "  def pop(): A = {\n",
    "    val currentTop = peek\n",
    "    elements = elements.tail\n",
    "    currentTop\n",
    "  }\n",
    "}\n",
    "\n",
    "val stack = new Stack[Int]\n",
    "stack.push(1)\n",
    "stack.push(2)\n",
    "println(stack.pop)  // prints 2\n",
    "println(stack.pop)  // prints 1\n",
    "\n",
    "class Fruit\n",
    "class Apple extends Fruit\n",
    "class Banana extends Fruit\n",
    "\n",
    "val fruitStack = new Stack[Fruit]\n",
    "val apple = new Apple\n",
    "val banana = new Banana\n",
    "\n",
    "fruitStack.push(apple)\n",
    "fruitStack.push(banana)\n",
    "println(fruitStack.pop)\n",
    "println(fruitStack.pop)"
   ]
  },
  {
   "cell_type": "markdown",
   "metadata": {},
   "source": [
    "## Implicits"
   ]
  },
  {
   "cell_type": "code",
   "execution_count": null,
   "metadata": {},
   "outputs": [],
   "source": [
    "object Helper {\n",
    "    implicit class StringExtended(str: String) {\n",
    "        def sayItLouder = println(str.toUpperCase +\"!!!\")\n",
    "    }\n",
    "}\n",
    "\n",
    "// import Helper._\n",
    "\n",
    "\"hi\".sayItLouder   // Basic String has method “sayItLouder”"
   ]
  },
  {
   "cell_type": "code",
   "execution_count": null,
   "metadata": {},
   "outputs": [],
   "source": [
    "val flag: Boolean = false\n",
    "val sum: Int = flag + 1\n",
    "println(sum)"
   ]
  },
  {
   "cell_type": "code",
   "execution_count": null,
   "metadata": {},
   "outputs": [],
   "source": [
    "import scala.language.implicitConversions\n",
    "\n",
    "val flag: Boolean = false\n",
    "implicit def bool2int(b: Boolean): Int = if (b) 1 else 0\n",
    "val sum: Int = flag + 1\n",
    "println(sum)"
   ]
  },
  {
   "cell_type": "code",
   "execution_count": null,
   "metadata": {},
   "outputs": [],
   "source": [
    "def rub2usd(sum: Double)(implicit rub2usdRate: Double) = sum / rub2usdRate\n",
    "\n",
    "implicit val todayRUB2USD: Double = 60.0\n",
    "\n",
    "println(rub2usd(10.0))"
   ]
  },
  {
   "cell_type": "markdown",
   "metadata": {},
   "source": [
    "## Misc"
   ]
  },
  {
   "cell_type": "code",
   "execution_count": null,
   "metadata": {},
   "outputs": [],
   "source": [
    "2.asInstanceOf[Long] // bad\n",
    "2.toLong // good"
   ]
  },
  {
   "cell_type": "code",
   "execution_count": null,
   "metadata": {},
   "outputs": [],
   "source": [
    "def getIncrement: Int => Int = { x => x + 1 }\n",
    "val increment = getIncrement\n",
    "increment(1)"
   ]
  },
  {
   "cell_type": "code",
   "execution_count": null,
   "metadata": {},
   "outputs": [],
   "source": []
  },
  {
   "cell_type": "code",
   "execution_count": null,
   "metadata": {},
   "outputs": [],
   "source": []
  },
  {
   "cell_type": "code",
   "execution_count": null,
   "metadata": {},
   "outputs": [],
   "source": [
    "var x = 0\n",
    "while (x < 5) { \n",
    "    println(x)\n",
    "    x = x + 1\n",
    "}"
   ]
  },
  {
   "cell_type": "code",
   "execution_count": null,
   "metadata": {},
   "outputs": [],
   "source": [
    "class P(var s: String = \"\") { def pp() = { println(s) } }"
   ]
  },
  {
   "cell_type": "code",
   "execution_count": null,
   "metadata": {},
   "outputs": [],
   "source": []
  }
 ],
 "metadata": {
  "kernelspec": {
   "display_name": "Scala 2.12",
   "language": "scala",
   "name": "scala212"
  },
  "language_info": {
   "codemirror_mode": "text/x-scala",
   "file_extension": ".sc",
   "mimetype": "text/x-scala",
   "name": "scala",
   "nbconvert_exporter": "script",
   "version": "2.12.19"
  }
 },
 "nbformat": 4,
 "nbformat_minor": 4
}
